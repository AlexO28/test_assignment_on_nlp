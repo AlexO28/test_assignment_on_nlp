{
 "cells": [
  {
   "cell_type": "markdown",
   "id": "1e5b05e5",
   "metadata": {},
   "source": [
    "# Цели."
   ]
  },
  {
   "cell_type": "markdown",
   "id": "ab3f3a78",
   "metadata": {},
   "source": [
    "Цель данного ноутбука: сделать EDA и попробовать бейзлайн решение."
   ]
  },
  {
   "cell_type": "markdown",
   "id": "b700eadd",
   "metadata": {},
   "source": [
    "# EDA."
   ]
  },
  {
   "cell_type": "code",
   "execution_count": 1,
   "id": "d255d1cd",
   "metadata": {},
   "outputs": [],
   "source": [
    "import pandas as pd"
   ]
  },
  {
   "cell_type": "code",
   "execution_count": 2,
   "id": "40621a38",
   "metadata": {},
   "outputs": [],
   "source": [
    "tab = pd.read_csv('file.csv', sep=';')"
   ]
  },
  {
   "cell_type": "code",
   "execution_count": 3,
   "id": "be27de3f",
   "metadata": {},
   "outputs": [
    {
     "data": {
      "text/plain": [
       "5449"
      ]
     },
     "execution_count": 3,
     "metadata": {},
     "output_type": "execute_result"
    }
   ],
   "source": [
    "len(tab)"
   ]
  },
  {
   "cell_type": "code",
   "execution_count": 4,
   "id": "4b51724e",
   "metadata": {},
   "outputs": [
    {
     "data": {
      "text/html": [
       "<div>\n",
       "<style scoped>\n",
       "    .dataframe tbody tr th:only-of-type {\n",
       "        vertical-align: middle;\n",
       "    }\n",
       "\n",
       "    .dataframe tbody tr th {\n",
       "        vertical-align: top;\n",
       "    }\n",
       "\n",
       "    .dataframe thead th {\n",
       "        text-align: right;\n",
       "    }\n",
       "</style>\n",
       "<table border=\"1\" class=\"dataframe\">\n",
       "  <thead>\n",
       "    <tr style=\"text-align: right;\">\n",
       "      <th></th>\n",
       "      <th>Unnamed: 0.1</th>\n",
       "      <th>Unnamed: 0</th>\n",
       "      <th>ucid</th>\n",
       "      <th>text_employer</th>\n",
       "      <th>date</th>\n",
       "      <th>ACTION_ITEM_RESULT_PRODUCT_NAME</th>\n",
       "    </tr>\n",
       "  </thead>\n",
       "  <tbody>\n",
       "    <tr>\n",
       "      <th>0</th>\n",
       "      <td>138914</td>\n",
       "      <td>350836</td>\n",
       "      <td>5,01039E+17</td>\n",
       "      <td>добрый_день. это ваш персональный_менеджер_сбе...</td>\n",
       "      <td>2021-02-26</td>\n",
       "      <td>Бизнес-карта</td>\n",
       "    </tr>\n",
       "    <tr>\n",
       "      <th>1</th>\n",
       "      <td>138915</td>\n",
       "      <td>350837</td>\n",
       "      <td>5,01039E+17</td>\n",
       "      <td>добрый_день строки. это клиентский_менеджер_сб...</td>\n",
       "      <td>2021-02-20</td>\n",
       "      <td>Зарплатные проекты</td>\n",
       "    </tr>\n",
       "    <tr>\n",
       "      <th>2</th>\n",
       "      <td>138917</td>\n",
       "      <td>350844</td>\n",
       "      <td>5,0104E+17</td>\n",
       "      <td>здравствуйте. это ваши персональный_менеджер и...</td>\n",
       "      <td>2021-02-18</td>\n",
       "      <td>Зарплатные проекты</td>\n",
       "    </tr>\n",
       "    <tr>\n",
       "      <th>3</th>\n",
       "      <td>138918</td>\n",
       "      <td>350851</td>\n",
       "      <td>5,0104E+17</td>\n",
       "      <td>добрый_день. персональный_менеджер сбер бизнес...</td>\n",
       "      <td>2021-02-24</td>\n",
       "      <td>Зарплатные проекты</td>\n",
       "    </tr>\n",
       "    <tr>\n",
       "      <th>4</th>\n",
       "      <td>138921</td>\n",
       "      <td>350856</td>\n",
       "      <td>5,01041E+17</td>\n",
       "      <td>в истории смотреть. добрый_день. менеджер_сбер...</td>\n",
       "      <td>2021-02-20</td>\n",
       "      <td>Зарплатные проекты</td>\n",
       "    </tr>\n",
       "  </tbody>\n",
       "</table>\n",
       "</div>"
      ],
      "text/plain": [
       "   Unnamed: 0.1  Unnamed: 0         ucid  \\\n",
       "0        138914      350836  5,01039E+17   \n",
       "1        138915      350837  5,01039E+17   \n",
       "2        138917      350844   5,0104E+17   \n",
       "3        138918      350851   5,0104E+17   \n",
       "4        138921      350856  5,01041E+17   \n",
       "\n",
       "                                       text_employer        date  \\\n",
       "0  добрый_день. это ваш персональный_менеджер_сбе...  2021-02-26   \n",
       "1  добрый_день строки. это клиентский_менеджер_сб...  2021-02-20   \n",
       "2  здравствуйте. это ваши персональный_менеджер и...  2021-02-18   \n",
       "3  добрый_день. персональный_менеджер сбер бизнес...  2021-02-24   \n",
       "4  в истории смотреть. добрый_день. менеджер_сбер...  2021-02-20   \n",
       "\n",
       "  ACTION_ITEM_RESULT_PRODUCT_NAME  \n",
       "0                    Бизнес-карта  \n",
       "1              Зарплатные проекты  \n",
       "2              Зарплатные проекты  \n",
       "3              Зарплатные проекты  \n",
       "4              Зарплатные проекты  "
      ]
     },
     "execution_count": 4,
     "metadata": {},
     "output_type": "execute_result"
    }
   ],
   "source": [
    "tab.head()"
   ]
  },
  {
   "cell_type": "code",
   "execution_count": 5,
   "id": "759962db",
   "metadata": {},
   "outputs": [
    {
     "data": {
      "text/plain": [
       "Бизнес-карта                  2508\n",
       "Зарплатные проекты            1512\n",
       "Открытие банковского счета     890\n",
       "Эквайринг                      539\n",
       "Name: ACTION_ITEM_RESULT_PRODUCT_NAME, dtype: int64"
      ]
     },
     "execution_count": 5,
     "metadata": {},
     "output_type": "execute_result"
    }
   ],
   "source": [
    "tab['ACTION_ITEM_RESULT_PRODUCT_NAME'].value_counts()"
   ]
  },
  {
   "cell_type": "code",
   "execution_count": 6,
   "id": "b31d29d6",
   "metadata": {},
   "outputs": [],
   "source": [
    "from processing import y_dict"
   ]
  },
  {
   "cell_type": "code",
   "execution_count": 7,
   "id": "9d01c9ab",
   "metadata": {},
   "outputs": [
    {
     "data": {
      "text/plain": [
       "{'Зарплатные проекты': 2,\n",
       " 'Бизнес-карта': 1,\n",
       " 'Эквайринг': 4,\n",
       " 'Открытие банковского счета': 3}"
      ]
     },
     "execution_count": 7,
     "metadata": {},
     "output_type": "execute_result"
    }
   ],
   "source": [
    "y_dict"
   ]
  },
  {
   "cell_type": "code",
   "execution_count": 8,
   "id": "8c202996",
   "metadata": {},
   "outputs": [],
   "source": [
    "from processing import decode_to_target"
   ]
  },
  {
   "cell_type": "code",
   "execution_count": 9,
   "id": "4f89c6df",
   "metadata": {},
   "outputs": [],
   "source": [
    "tab['target'] = decode_to_target(tab)"
   ]
  },
  {
   "cell_type": "code",
   "execution_count": 10,
   "id": "27683575",
   "metadata": {},
   "outputs": [
    {
     "data": {
      "text/plain": [
       "1    2508\n",
       "2    1512\n",
       "3     890\n",
       "4     539\n",
       "Name: target, dtype: int64"
      ]
     },
     "execution_count": 10,
     "metadata": {},
     "output_type": "execute_result"
    }
   ],
   "source": [
    "tab['target'].value_counts()"
   ]
  },
  {
   "cell_type": "code",
   "execution_count": 11,
   "id": "a316d8c9",
   "metadata": {},
   "outputs": [
    {
     "data": {
      "text/plain": [
       "2021-02-15    804\n",
       "2021-02-16    743\n",
       "2021-02-18    623\n",
       "2021-02-24    620\n",
       "2021-02-17    579\n",
       "2021-02-19    576\n",
       "2021-02-25    565\n",
       "2021-02-20    457\n",
       "2021-02-26    443\n",
       "2021-02-23     18\n",
       "2021-02-28     10\n",
       "2021-02-21      6\n",
       "2021-02-22      5\n",
       "Name: date, dtype: int64"
      ]
     },
     "execution_count": 11,
     "metadata": {},
     "output_type": "execute_result"
    }
   ],
   "source": [
    "tab['date'].value_counts()"
   ]
  },
  {
   "cell_type": "code",
   "execution_count": 12,
   "id": "c11b2ded",
   "metadata": {},
   "outputs": [],
   "source": [
    "from processing import decode_to_true_date"
   ]
  },
  {
   "cell_type": "markdown",
   "id": "afd444e3",
   "metadata": {},
   "source": [
    "Как видно, у нас есть данные за неделю. Со временем у нас всё меньше данных."
   ]
  },
  {
   "cell_type": "code",
   "execution_count": 13,
   "id": "8e18ace1",
   "metadata": {},
   "outputs": [],
   "source": [
    "tab['true_date'] = decode_to_true_date(tab)"
   ]
  },
  {
   "cell_type": "code",
   "execution_count": 14,
   "id": "ee54e5e5",
   "metadata": {},
   "outputs": [
    {
     "data": {
      "text/plain": [
       "0.11487793402560045"
      ]
     },
     "execution_count": 14,
     "metadata": {},
     "output_type": "execute_result"
    }
   ],
   "source": [
    "tab['true_date'].corr(tab['target'], method='spearman')"
   ]
  },
  {
   "cell_type": "markdown",
   "id": "854793c6",
   "metadata": {},
   "source": [
    "Как видно корреляция со временем не очень большая. Поэтому потеря данных с течением времени не будет проблемой."
   ]
  },
  {
   "cell_type": "code",
   "execution_count": 15,
   "id": "4cb1dc1d",
   "metadata": {},
   "outputs": [
    {
     "data": {
      "text/plain": [
       "0.0017795657865167255"
      ]
     },
     "execution_count": 15,
     "metadata": {},
     "output_type": "execute_result"
    }
   ],
   "source": [
    "tab.iloc[:, 0].corr(tab['target'], method='spearman')"
   ]
  },
  {
   "cell_type": "code",
   "execution_count": 16,
   "id": "ac60e30f",
   "metadata": {},
   "outputs": [
    {
     "data": {
      "text/plain": [
       "0.0017795657865167255"
      ]
     },
     "execution_count": 16,
     "metadata": {},
     "output_type": "execute_result"
    }
   ],
   "source": [
    "tab.iloc[:, 1].corr(tab['target'], method='spearman')"
   ]
  },
  {
   "cell_type": "code",
   "execution_count": 17,
   "id": "7d44aebd",
   "metadata": {},
   "outputs": [
    {
     "data": {
      "text/plain": [
       "-0.05815313886455982"
      ]
     },
     "execution_count": 17,
     "metadata": {},
     "output_type": "execute_result"
    }
   ],
   "source": [
    "tab.iloc[:, 2].corr(tab['target'], method='spearman')"
   ]
  },
  {
   "cell_type": "markdown",
   "id": "80e7116c",
   "metadata": {},
   "source": [
    "Здорово, что корреляция этих 3 столбцов не значима, потому что в дальнейшем мы их выкинем."
   ]
  },
  {
   "cell_type": "markdown",
   "id": "e470656c",
   "metadata": {},
   "source": [
    "Займёмся обработкой текстового поля."
   ]
  },
  {
   "cell_type": "code",
   "execution_count": 18,
   "id": "1858b994",
   "metadata": {},
   "outputs": [],
   "source": [
    "from lemmatization import prepare_lemmatized_text, remove_punctuation"
   ]
  },
  {
   "cell_type": "code",
   "execution_count": 19,
   "id": "466f3093",
   "metadata": {},
   "outputs": [],
   "source": [
    "tab['text_employer'] = remove_punctuation(tab)"
   ]
  },
  {
   "cell_type": "code",
   "execution_count": 20,
   "id": "ed041c8b",
   "metadata": {},
   "outputs": [],
   "source": [
    "tab['text'] = tab['text_employer'].apply(lambda x: prepare_lemmatized_text(x))"
   ]
  },
  {
   "cell_type": "code",
   "execution_count": 21,
   "id": "4e3ffb14",
   "metadata": {},
   "outputs": [
    {
     "data": {
      "text/plain": [
       "'добрый_деть  это ваш персональный_менеджер_сбербанк бизнес звонить вы как индивидуальный_предприниматель вы удобный сейчас говорить  когда когда'"
      ]
     },
     "execution_count": 21,
     "metadata": {},
     "output_type": "execute_result"
    }
   ],
   "source": [
    "tab['text'][0]"
   ]
  },
  {
   "cell_type": "markdown",
   "id": "d11f5d45",
   "metadata": {},
   "source": [
    "Отметим, что подчеркивание мы намеренно не убираем, так как оно показывает связь между словами."
   ]
  },
  {
   "cell_type": "markdown",
   "id": "b1dc7bd5",
   "metadata": {},
   "source": [
    "Выделим трениворочное, валидационное и тестовое множества."
   ]
  },
  {
   "cell_type": "code",
   "execution_count": 22,
   "id": "fdf697fa",
   "metadata": {},
   "outputs": [],
   "source": [
    "from sklearn.model_selection import train_test_split"
   ]
  },
  {
   "cell_type": "code",
   "execution_count": 23,
   "id": "0f4f25cc",
   "metadata": {},
   "outputs": [],
   "source": [
    "train_val, test = train_test_split(tab, random_state=239, test_size=0.2)\n",
    "train, val = train_test_split(train_val, random_state=239, test_size=0.2)"
   ]
  },
  {
   "cell_type": "markdown",
   "id": "96cc68d0",
   "metadata": {},
   "source": [
    "Остаток EDA мы будем проводить на трейне."
   ]
  },
  {
   "cell_type": "markdown",
   "id": "222855ca",
   "metadata": {},
   "source": [
    "Выделим стоп-слова"
   ]
  },
  {
   "cell_type": "code",
   "execution_count": 24,
   "id": "dc140d74",
   "metadata": {},
   "outputs": [],
   "source": [
    "from processing import get_aggregated_statistics_on_words_for_category"
   ]
  },
  {
   "cell_type": "code",
   "execution_count": 25,
   "id": "dd1a3527",
   "metadata": {},
   "outputs": [],
   "source": [
    "aggtab1 = get_aggregated_statistics_on_words_for_category(train, 'Бизнес-карта')\n",
    "aggtab2 = get_aggregated_statistics_on_words_for_category(train, 'Зарплатные проекты')\n",
    "aggtab3 = get_aggregated_statistics_on_words_for_category(train, 'Эквайринг')\n",
    "aggtab4 = get_aggregated_statistics_on_words_for_category(train, 'Открытие банковского счета')"
   ]
  },
  {
   "cell_type": "code",
   "execution_count": 26,
   "id": "63ab5fcc",
   "metadata": {},
   "outputs": [
    {
     "name": "stdout",
     "output_type": "stream",
     "text": [
      "['', 'карта', 'бизнес', 'звонить', 'счет', 'удобный', 'вопрос', 'наличные', 'сбер', 'свой', 'предложение', 'рубль', 'смс', 'расчетный', 'обслуживание', 'бесплатный', 'услуга', 'перезвонить', 'покупка', 'свидание', 'говорить', 'тысяча', 'добрый', 'э', 'снятие', 'отделение', 'заявка', 'оформить', 'уточнить', 'комиссия']\n"
     ]
    }
   ],
   "source": [
    "words1 = aggtab1.head(30).index\n",
    "words1 = [word[0] for word in words1]\n",
    "print(words1)"
   ]
  },
  {
   "cell_type": "code",
   "execution_count": 27,
   "id": "0c66fb4b",
   "metadata": {},
   "outputs": [
    {
     "name": "stdout",
     "output_type": "stream",
     "text": [
      "['', 'зарплатный_проект', 'вопрос', 'звонить', 'карта', 'бизнес', 'удобный', 'счет', 'услуга', 'сбер', 'комиссия', 'свой', 'понять', 'свидание', 'подключить', 'сбербанк', 'добрый', 'переводить', 'сотрудник', 'уточнить', 'говорить', 'тысяча', 'помочь', 'перезвонить', 'перевод', 'индивидуальный_предприниматель', 'информация', 'банк', 'э', 'код']\n"
     ]
    }
   ],
   "source": [
    "words2 = aggtab2.head(30).index\n",
    "words2 = [word[0] for word in words2]\n",
    "print(words2)"
   ]
  },
  {
   "cell_type": "code",
   "execution_count": 28,
   "id": "c65a01c9",
   "metadata": {},
   "outputs": [
    {
     "name": "stdout",
     "output_type": "stream",
     "text": [
      "['', 'терминал', 'вопрос', 'бизнес', 'заявка', 'комиссия', 'оборот', 'звонить', 'сбер', 'удобный', 'месяц', 'услуга', 'понять', 'сбербанк', 'банк', 'тысяча', 'добрый', 'эквайринг', 'уточнить', 'торговый_эквайринг', 'э', 'свидание', 'счет', 'информация', 'точка', 'организация', 'нужный', 'оборудование', 'оплата', 'либо']\n"
     ]
    }
   ],
   "source": [
    "words3 = aggtab3.head(30).index\n",
    "words3 = [word[0] for word in words3]\n",
    "print(words3)"
   ]
  },
  {
   "cell_type": "code",
   "execution_count": 29,
   "id": "0317bd17",
   "metadata": {},
   "outputs": [
    {
     "name": "stdout",
     "output_type": "stream",
     "text": [
      "['', 'счет', 'вопрос', 'бизнес', 'звонить', 'банк', 'удобный', 'сбербанк', 'сбер', 'информация', 'понять', 'расчетный', 'организация', 'свой', 'услуга', 'добрый', 'уточнить', 'клиент', 'свидание', 'номер', 'контакт', 'направить', 'говорить', 'перезвонить', 'звать', 'смс', 'э', 'тариф', 'индивидуальный_предприниматель', 'добрый_деть']\n"
     ]
    }
   ],
   "source": [
    "words4 = aggtab4.head(30).index\n",
    "words4 = [word[0] for word in words4]\n",
    "print(words4)"
   ]
  },
  {
   "cell_type": "markdown",
   "id": "2f5ed801",
   "metadata": {},
   "source": [
    "# Построение бейзлайна."
   ]
  },
  {
   "cell_type": "markdown",
   "id": "2986d7c1",
   "metadata": {},
   "source": [
    "В качестве бейзлайна можно взять поиск по популярному слову.\n",
    "\n",
    "Пусть для \"Зарплатные проекты\" это будет зарплатный_проект.\n",
    "Пусть для \"Эквайринг\" это будет эквайринг.\n",
    "Пусть для \"Открытие банковского счета\" это будет счет.\n",
    "Пусть для \"Бизнес-карта\" это будет карта."
   ]
  },
  {
   "cell_type": "markdown",
   "id": "e829a72b",
   "metadata": {},
   "source": [
    "Наиболее популярная категория у нас это Бизнес-карта, поэтому если ничего неизвестно мы будет пользоваться этой категорией."
   ]
  },
  {
   "cell_type": "markdown",
   "id": "dbbc9bf3",
   "metadata": {},
   "source": [
    "Логика заполнения идёт от менее популярных категорий к более популярным."
   ]
  },
  {
   "cell_type": "code",
   "execution_count": 30,
   "id": "73f75116",
   "metadata": {},
   "outputs": [],
   "source": [
    "def fill_baseline_predictions(tab, y_dict):\n",
    "    tab['prediction'] = y_dict[\"Бизнес-карта\"]\n",
    "    tab['зарплатный_проект'] = tab['text'].apply(lambda x: \"зарплатный_проект\" in x.split(' '))\n",
    "    tab['эквайринг'] = tab['text'].apply(lambda x: \"эквайринг\" in x.split(' '))\n",
    "    tab['счет'] = tab['text'].apply(lambda x: \"счет\" in x.split(' '))\n",
    "    tab['карта'] = tab['text'].apply(lambda x: \"карта\" in x.split(' '))\n",
    "    tab.loc[tab['эквайринг'] == 1, 'prediction'] = y_dict['Эквайринг']\n",
    "    tab.loc[tab['счет'] == 1, 'prediction'] = y_dict['Открытие банковского счета']\n",
    "    tab.loc[tab['зарплатный_проект'] == 1, 'prediction'] = y_dict['Зарплатные проекты']\n",
    "    tab.loc[tab['карта'] == 1, 'prediction'] = y_dict['Бизнес-карта']\n",
    "    return tab"
   ]
  },
  {
   "cell_type": "markdown",
   "id": "b62f3463",
   "metadata": {},
   "source": [
    "Рассмотрим тривиальный бейзлайн, когда мы всё предсказываем бизнес-картой."
   ]
  },
  {
   "cell_type": "markdown",
   "id": "7820dad6",
   "metadata": {},
   "source": [
    "В качестве метрики мы будем брать accuracy, так мы хотим использовать и нейронные сети, а в их имплементациях она есть из коробки."
   ]
  },
  {
   "cell_type": "code",
   "execution_count": 31,
   "id": "d42cba27",
   "metadata": {},
   "outputs": [
    {
     "name": "stdout",
     "output_type": "stream",
     "text": [
      "1\n"
     ]
    }
   ],
   "source": [
    "print(y_dict[\"Бизнес-карта\"])"
   ]
  },
  {
   "cell_type": "code",
   "execution_count": 32,
   "id": "e727f304",
   "metadata": {},
   "outputs": [
    {
     "data": {
      "text/plain": [
       "(0.46458273587611126, 0.4426605504587156)"
      ]
     },
     "execution_count": 32,
     "metadata": {},
     "output_type": "execute_result"
    }
   ],
   "source": [
    "len(train[train['target'] == 1])/len(train), len(val[val['target'] == 1])/len(val) "
   ]
  },
  {
   "cell_type": "markdown",
   "id": "57890f12",
   "metadata": {},
   "source": [
    "Итак тривиальный бейзлайн это 44.27%"
   ]
  },
  {
   "cell_type": "code",
   "execution_count": 33,
   "id": "84f1ace4",
   "metadata": {},
   "outputs": [],
   "source": [
    "train = fill_baseline_predictions(train, y_dict)"
   ]
  },
  {
   "cell_type": "code",
   "execution_count": 34,
   "id": "4ba3f8b5",
   "metadata": {},
   "outputs": [
    {
     "data": {
      "text/plain": [
       "0.6303412675652423"
      ]
     },
     "execution_count": 34,
     "metadata": {},
     "output_type": "execute_result"
    }
   ],
   "source": [
    "len(train[train[\"target\"] == train[\"prediction\"]])/len(train)"
   ]
  },
  {
   "cell_type": "code",
   "execution_count": 35,
   "id": "2456313e",
   "metadata": {},
   "outputs": [],
   "source": [
    "val = fill_baseline_predictions(val, y_dict)"
   ]
  },
  {
   "cell_type": "code",
   "execution_count": 36,
   "id": "305fce9a",
   "metadata": {},
   "outputs": [
    {
     "data": {
      "text/plain": [
       "0.6135321100917431"
      ]
     },
     "execution_count": 36,
     "metadata": {},
     "output_type": "execute_result"
    }
   ],
   "source": [
    "len(val[val[\"target\"] == val[\"prediction\"]])/len(val)"
   ]
  },
  {
   "cell_type": "markdown",
   "id": "1e8680ec",
   "metadata": {},
   "source": [
    "Итак нетривиальный бейзлайн это 61.35%"
   ]
  },
  {
   "cell_type": "code",
   "execution_count": null,
   "id": "ac9af9ba",
   "metadata": {},
   "outputs": [],
   "source": []
  }
 ],
 "metadata": {
  "kernelspec": {
   "display_name": "Python 3 (ipykernel)",
   "language": "python",
   "name": "python3"
  },
  "language_info": {
   "codemirror_mode": {
    "name": "ipython",
    "version": 3
   },
   "file_extension": ".py",
   "mimetype": "text/x-python",
   "name": "python",
   "nbconvert_exporter": "python",
   "pygments_lexer": "ipython3",
   "version": "3.9.12"
  }
 },
 "nbformat": 4,
 "nbformat_minor": 5
}
